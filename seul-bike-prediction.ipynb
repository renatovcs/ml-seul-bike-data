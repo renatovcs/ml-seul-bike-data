{
 "cells": [
  {
   "cell_type": "markdown",
   "id": "aa0c87c0-fffc-45f8-ae61-9bfcb2e693ef",
   "metadata": {},
   "source": [
    "# Somativa 2 - Renato Curvelo"
   ]
  },
  {
   "cell_type": "code",
   "execution_count": 134,
   "id": "f3ee417c-4b6e-49ca-b460-b320e58d292a",
   "metadata": {},
   "outputs": [],
   "source": [
    "import numpy as np\n",
    "import pandas as pd\n",
    "import xgboost as xgb\n",
    "from sklearn.pipeline import Pipeline\n",
    "from sklearn.compose import ColumnTransformer\n",
    "from sklearn.model_selection import train_test_split\n",
    "from sklearn.preprocessing import StandardScaler\n",
    "from sklearn.metrics import mean_squared_error, mean_absolute_error"
   ]
  },
  {
   "cell_type": "code",
   "execution_count": 183,
   "id": "62767517-5010-412d-8e00-718f72f44135",
   "metadata": {},
   "outputs": [
    {
     "data": {
      "text/html": [
       "<div>\n",
       "<style scoped>\n",
       "    .dataframe tbody tr th:only-of-type {\n",
       "        vertical-align: middle;\n",
       "    }\n",
       "\n",
       "    .dataframe tbody tr th {\n",
       "        vertical-align: top;\n",
       "    }\n",
       "\n",
       "    .dataframe thead th {\n",
       "        text-align: right;\n",
       "    }\n",
       "</style>\n",
       "<table border=\"1\" class=\"dataframe\">\n",
       "  <thead>\n",
       "    <tr style=\"text-align: right;\">\n",
       "      <th></th>\n",
       "      <th>Rented Bike Count</th>\n",
       "      <th>Temperature(°C)</th>\n",
       "      <th>Hour</th>\n",
       "    </tr>\n",
       "  </thead>\n",
       "  <tbody>\n",
       "    <tr>\n",
       "      <th>count</th>\n",
       "      <td>8760.000000</td>\n",
       "      <td>8760.000000</td>\n",
       "      <td>8760.000000</td>\n",
       "    </tr>\n",
       "    <tr>\n",
       "      <th>mean</th>\n",
       "      <td>704.602055</td>\n",
       "      <td>12.882922</td>\n",
       "      <td>11.500000</td>\n",
       "    </tr>\n",
       "    <tr>\n",
       "      <th>std</th>\n",
       "      <td>644.997468</td>\n",
       "      <td>11.944825</td>\n",
       "      <td>6.922582</td>\n",
       "    </tr>\n",
       "    <tr>\n",
       "      <th>min</th>\n",
       "      <td>0.000000</td>\n",
       "      <td>-17.800000</td>\n",
       "      <td>0.000000</td>\n",
       "    </tr>\n",
       "    <tr>\n",
       "      <th>25%</th>\n",
       "      <td>191.000000</td>\n",
       "      <td>3.500000</td>\n",
       "      <td>5.750000</td>\n",
       "    </tr>\n",
       "    <tr>\n",
       "      <th>50%</th>\n",
       "      <td>504.500000</td>\n",
       "      <td>13.700000</td>\n",
       "      <td>11.500000</td>\n",
       "    </tr>\n",
       "    <tr>\n",
       "      <th>75%</th>\n",
       "      <td>1065.250000</td>\n",
       "      <td>22.500000</td>\n",
       "      <td>17.250000</td>\n",
       "    </tr>\n",
       "    <tr>\n",
       "      <th>max</th>\n",
       "      <td>3556.000000</td>\n",
       "      <td>39.400000</td>\n",
       "      <td>23.000000</td>\n",
       "    </tr>\n",
       "  </tbody>\n",
       "</table>\n",
       "</div>"
      ],
      "text/plain": [
       "       Rented Bike Count  Temperature(°C)         Hour\n",
       "count        8760.000000      8760.000000  8760.000000\n",
       "mean          704.602055        12.882922    11.500000\n",
       "std           644.997468        11.944825     6.922582\n",
       "min             0.000000       -17.800000     0.000000\n",
       "25%           191.000000         3.500000     5.750000\n",
       "50%           504.500000        13.700000    11.500000\n",
       "75%          1065.250000        22.500000    17.250000\n",
       "max          3556.000000        39.400000    23.000000"
      ]
     },
     "execution_count": 183,
     "metadata": {},
     "output_type": "execute_result"
    }
   ],
   "source": [
    "# Selecionando as colunas mais importantes\n",
    "colunas_selecionadas = ['Rented Bike Count', 'Temperature(°C)', 'Hour']\n",
    "df = pd.read_excel('seoul_bike_data.xlsx')\n",
    "df_reduzido = df[colunas_selecionadas]\n",
    "df_reduzido.describe()"
   ]
  },
  {
   "cell_type": "code",
   "execution_count": 185,
   "id": "c79008bb",
   "metadata": {},
   "outputs": [],
   "source": [
    "# Dividir os dados em treino e teste e treinando o modelo\n",
    "X_train, X_test, y_train, y_test = train_test_split(df_reduzido.drop(columns=['Rented Bike Count']) , df_reduzido['Rented Bike Count'], test_size=0.2, random_state=42)\n",
    "\n",
    "# Criar o pipeline\n",
    "pipe = Pipeline(steps=[\n",
    "    ('scaler', StandardScaler()),  # Etapa de preparação\n",
    "    ('regressor', xgb.XGBRegressor(objective='reg:squarederror', random_state=42, n_estimators=100))  # Modelo\n",
    "])\n",
    "\n",
    "# Treinar o pipeline\n",
    "pipe.fit(X_train, y_train)\n",
    "\n",
    "# Fazer predições\n",
    "y_pred = pipe.predict(X_test)"
   ]
  },
  {
   "cell_type": "markdown",
   "id": "09adc38a-3ea4-487b-9a10-ebf0c24be1ff",
   "metadata": {},
   "source": [
    "* No pipeline acima, não inclui um encoder, visto que nenhuma variável categórica era relevante o suficiente para entrar no dataframe reduzido.\n",
    "* Como não haviam outliers nessas colunas, escolhi utilzar o StandardScaler."
   ]
  },
  {
   "cell_type": "code",
   "execution_count": 187,
   "id": "3aef4740",
   "metadata": {},
   "outputs": [
    {
     "name": "stdout",
     "output_type": "stream",
     "text": [
      "Root Mean Squared Error (RMSE): 425.0931547644125\n",
      "Mean Absolute Error (MAE): 265.1030595237262\n",
      "Mean Squared Error: 180704.19022756073\n",
      "    Actual    Predicted\n",
      "0      963  1603.263794\n",
      "1      668   652.012451\n",
      "2      542   455.743774\n",
      "3     2034  1877.826660\n",
      "4     1115   537.434082\n",
      "5      886   742.508118\n",
      "6      308   349.604980\n",
      "7      155   227.408035\n",
      "8      451  1412.332153\n",
      "9      572   362.337463\n",
      "10     154   151.133987\n",
      "11      40    85.337021\n",
      "12     294   365.116852\n",
      "13    1395   895.613586\n",
      "14    1097   963.070374\n"
     ]
    }
   ],
   "source": [
    "# Calcular métricas\n",
    "rmse = np.sqrt(mean_squared_error(y_test, y_pred))\n",
    "mae = mean_absolute_error(y_test, y_pred)\n",
    "mse = mean_squared_error(y_test, y_pred)\n",
    "\n",
    "# Mostrar métricas\n",
    "print(f'Root Mean Squared Error (RMSE): {rmse}')\n",
    "print(f'Mean Absolute Error (MAE): {mae}')\n",
    "print(f'Mean Squared Error: {mse}')\n",
    "\n",
    "# Comparar valores reais com predições\n",
    "comparison = pd.DataFrame({'Actual': y_test.values, 'Predicted': y_pred})\n",
    "print(comparison.head(15))\n"
   ]
  },
  {
   "cell_type": "markdown",
   "id": "48e3992f-090e-418f-8a58-4af6a1820d38",
   "metadata": {},
   "source": [
    "# Análise dos Resultados Atualizados\n",
    "_Os valores de erro mostram que o modelo apresenta um desempenho moderado, com algumas limitações:_\n",
    "\n",
    "## 1. Métricas:\n",
    "* **Root Mean Squared Error (RMSE): 425.09 =>** O RMSE está alto. Na média, as predições estão numa distância considerável dos valores reais.\n",
    "\n",
    "* **Mean Absolute Error (MAE): 265.10 =>** O modelo está errando em 265 bicicletas aproximadamente. Para mais ou para menos. Visto que a média é 500 e a maior parte dos dias varia entre 250 e 1000 bicicletas, até que não está tão ruim, mas pode melhorar.\n",
    "\n",
    "* **Mean Squared Error (MSE): 180704.19 =>** Reflete o impacto de erros grandes, pois amplifica as discrepâncias maiores. Existem vários outliers na coluna de bicicletas alugadas, talvez analizar melhor esses dias/horários para identificar os motivos seria de ajuda.\n",
    "\n",
    "## 2. Predições:\n",
    "O modelo captura algumas tendências, como nas linhas 1, 3 e 13, mas ainda tem dificuldades em prever os valores em outros casos, como nas linhas 0 e 8."
   ]
  }
 ],
 "metadata": {
  "kernelspec": {
   "display_name": "Python 3 (ipykernel)",
   "language": "python",
   "name": "python3"
  },
  "language_info": {
   "codemirror_mode": {
    "name": "ipython",
    "version": 3
   },
   "file_extension": ".py",
   "mimetype": "text/x-python",
   "name": "python",
   "nbconvert_exporter": "python",
   "pygments_lexer": "ipython3",
   "version": "3.12.4"
  }
 },
 "nbformat": 4,
 "nbformat_minor": 5
}
